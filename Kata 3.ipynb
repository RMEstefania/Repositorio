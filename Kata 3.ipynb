{
 "cells": [
  {
   "cell_type": "code",
   "execution_count": 3,
   "metadata": {},
   "outputs": [
    {
     "name": "stdout",
     "output_type": "stream",
     "text": [
      "Puedes seguir con tu día\n"
     ]
    }
   ],
   "source": [
    "asteroide = 49\n",
    "if asteroide > 25:\n",
    "    print(\"¡Peligro! Un asteroide se esta acercando a la Tierra\")\n",
    "else:\n",
    "    print(\"Puedes seguir con tu día\")"
   ]
  },
  {
   "cell_type": "code",
   "execution_count": 5,
   "metadata": {},
   "outputs": [
    {
     "name": "stdout",
     "output_type": "stream",
     "text": [
      "Descuida. Todo en orden, sigue con tu día\n"
     ]
    }
   ],
   "source": [
    "asteroide = 19\n",
    "if asteroide > 20:\n",
    "    print(\"¡Mira! ¡Hay un rayo de luz en el cielo!\")\n",
    "elif asteroide == 20:\n",
    "    print(\"¡Mira! ¡Hay un rayo de luz en el cielo!\")\n",
    "else:\n",
    "    print(\"Descuida. Todo en orden, sigue con tu día\")"
   ]
  },
  {
   "cell_type": "code",
   "execution_count": 7,
   "metadata": {},
   "outputs": [
    {
     "name": "stdout",
     "output_type": "stream",
     "text": [
      "¡Mira! ¡Hay un rayo de luz en el cielo!\n"
     ]
    }
   ],
   "source": [
    "v_asteroide = 25\n",
    "t_asteroide = 40\n",
    "if v_asteroide > 25 and t_asteroide > 25:\n",
    "    print(\"¡Alerta! Un asteroide golperá la Tierra y causará daños\")\n",
    "elif v_asteroide >= 20:\n",
    "    print(\"¡Mira! ¡Hay un rayo de luz en el cielo!\")\n",
    "elif t_asteroide < 25:\n",
    "    print(\"Descuida. Todo en orden, no hay nada que ver\")\n",
    "else:\n",
    "    print(\"Descuida. Todo en orden, no hay nada que ver\")"
   ]
  }
 ],
 "metadata": {
  "interpreter": {
   "hash": "b10eb31e875a00c0cd99b310e69dd6511fc5ed5a75e45cd6560e46314b44a63b"
  },
  "kernelspec": {
   "display_name": "Python 3.10.2 64-bit",
   "language": "python",
   "name": "python3"
  },
  "language_info": {
   "codemirror_mode": {
    "name": "ipython",
    "version": 3
   },
   "file_extension": ".py",
   "mimetype": "text/x-python",
   "name": "python",
   "nbconvert_exporter": "python",
   "pygments_lexer": "ipython3",
   "version": "3.10.2"
  },
  "orig_nbformat": 4
 },
 "nbformat": 4,
 "nbformat_minor": 2
}
