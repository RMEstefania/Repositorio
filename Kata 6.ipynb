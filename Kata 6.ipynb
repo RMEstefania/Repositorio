{
 "cells": [
  {
   "cell_type": "code",
   "execution_count": 3,
   "metadata": {},
   "outputs": [
    {
     "name": "stdout",
     "output_type": "stream",
     "text": [
      "Hay 8 planetas en el Sistema Solar\n",
      "Plutón es el último planeta del Sistema Solar\n"
     ]
    }
   ],
   "source": [
    "Planetas = [\"Mercurio\", \"Venus\", \"Tierra\", \"Marte\", \"Júpiter\", \"Saturno\", \"Urano\", \"Neptuno\"]\n",
    "N_Planetas = len(Planetas)\n",
    "print(\"Hay\", N_Planetas, \"planetas en el Sistema Solar\")\n",
    "Planetas.append(\"Plutón\")\n",
    "print(Planetas[-1], \"es el último planeta del Sistema Solar\")"
   ]
  },
  {
   "cell_type": "code",
   "execution_count": 6,
   "metadata": {},
   "outputs": [
    {
     "name": "stdout",
     "output_type": "stream",
     "text": [
      "Aquí están los planetas que anteceden a: Venus\n",
      "['Mercurio']\n",
      "Estos son los planetas que suceden a: Venus\n",
      "['Tierra', 'Marte', 'Júpiter', 'Saturno', 'Urano', 'Neptuno']\n"
     ]
    }
   ],
   "source": [
    "Planetas = [\"Mercurio\", \"Venus\", \"Tierra\", \"Marte\", \"Júpiter\", \"Saturno\", \"Urano\", \"Neptuno\"]\n",
    "Usuario = input(\"Ingresa el nombre del planeta que deseas buscar (La primera letra debe ser mayúscula)\")\n",
    "P_Indice = Planetas.index(Usuario)\n",
    "print(\"Aquí están los planetas que anteceden a: \" + Usuario)\n",
    "print(Planetas[0:P_Indice])\n",
    "print(\"Estos son los planetas que suceden a: \" + Usuario)\n",
    "print(Planetas[P_Indice + 1:])"
   ]
  }
 ],
 "metadata": {
  "interpreter": {
   "hash": "b10eb31e875a00c0cd99b310e69dd6511fc5ed5a75e45cd6560e46314b44a63b"
  },
  "kernelspec": {
   "display_name": "Python 3.10.2 64-bit",
   "language": "python",
   "name": "python3"
  },
  "language_info": {
   "codemirror_mode": {
    "name": "ipython",
    "version": 3
   },
   "file_extension": ".py",
   "mimetype": "text/x-python",
   "name": "python",
   "nbconvert_exporter": "python",
   "pygments_lexer": "ipython3",
   "version": "3.10.2"
  },
  "orig_nbformat": 4
 },
 "nbformat": 4,
 "nbformat_minor": 2
}
