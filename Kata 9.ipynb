{
 "cells": [
  {
   "cell_type": "code",
   "execution_count": null,
   "metadata": {},
   "outputs": [],
   "source": [
    "def P_Tanques(T1, T2, T3):\n",
    "    Prom = (T1 + T2 + T3)/3\n",
    "    return f\"\"\"La lectura de los tanques de combustible y el promedio es:\n",
    "    Promedio: {Prom}%\n",
    "    Tanque 1: {T1}%\n",
    "    Tanque 2: {T2}%\n",
    "    Tanque 3: {T3}%\n",
    "    \"\"\"\n",
    "print(P_Tanques(10, 45, 67))"
   ]
  },
  {
   "cell_type": "code",
   "execution_count": 20,
   "metadata": {},
   "outputs": [
    {
     "name": "stdout",
     "output_type": "stream",
     "text": [
      "La lectura de los tanques de combustible y el promedio es:\n",
      "    Promedio: 40.666666666666664%\n",
      "    Tanque 1: 10%\n",
      "    Tanque 2: 45%\n",
      "    Tanque 3: 67%\n",
      "    \n"
     ]
    }
   ],
   "source": [
    "def Promedio(T1, T2, T3):\n",
    "    Promedio = (T1 + T2 + T3) / 3\n",
    "    return Promedio\n",
    "def Reporte(T1, T2, T3):\n",
    "    return f\"\"\"La lectura de los tanques de combustible y el promedio es:\n",
    "    Promedio: {Promedio}%\n",
    "    Tanque 1: {T1}%\n",
    "    Tanque 2: {T2}%\n",
    "    Tanque 3: {T3}%\n",
    "    \"\"\"\n",
    "print(P_Tanques(10, 45, 67))"
   ]
  },
  {
   "cell_type": "code",
   "execution_count": 22,
   "metadata": {},
   "outputs": [
    {
     "name": "stdout",
     "output_type": "stream",
     "text": [
      "\n",
      "    La mision se dirige a Marte\n",
      "    La mision tardará 18 horas\n",
      "    Se ocuparán 60 litros de combustible en el viaje\n",
      "    \n"
     ]
    }
   ],
   "source": [
    "def R_Mision(H_prelanzamiento, T_vuelo, Destino, T_externo, T_interno):\n",
    "    return f\"\"\"\n",
    "    La mision se dirige a {Destino}\n",
    "    La mision tardará {H_prelanzamiento + T_vuelo} horas\n",
    "    Se ocuparán {T_externo + T_interno} litros de combustible en el viaje\n",
    "    \"\"\"\n",
    "print(R_Mision(8, 10, \"Marte\", 20, 40))"
   ]
  },
  {
   "cell_type": "code",
   "execution_count": 39,
   "metadata": {},
   "outputs": [
    {
     "name": "stdout",
     "output_type": "stream",
     "text": [
      "\n",
      "    La mision se dirige a Luna\n",
      "    La mision tardará 905000 minutos\n",
      "    Se llevan 6000 litros de combustible de reserva en el viaje\n",
      "    Tanque Interno = 4000 litros de combustible \n",
      "Tanque Externo = 2000 litros de combustible \n",
      "\n"
     ]
    }
   ],
   "source": [
    "def Reporte(Destino, *minutos, **R_combustible):\n",
    "    Reporte_final = f\"\"\"\n",
    "    La mision se dirige a {Destino}\n",
    "    La mision tardará {sum(minutos)} minutos\n",
    "    Se llevan {sum(R_combustible.values())} litros de combustible de reserva en el viaje\n",
    "    \"\"\"\n",
    "    for Tanque, Litros in R_combustible.items():\n",
    "        Reporte_final += f\"Tanque {Tanque} = {Litros} litros de combustible \\n\"\n",
    "    return Reporte_final\n",
    "print(Reporte(\"Luna\", 900000, 5000, Interno = 4000, Externo = 2000))\n"
   ]
  }
 ],
 "metadata": {
  "interpreter": {
   "hash": "b10eb31e875a00c0cd99b310e69dd6511fc5ed5a75e45cd6560e46314b44a63b"
  },
  "kernelspec": {
   "display_name": "Python 3.10.2 64-bit",
   "language": "python",
   "name": "python3"
  },
  "language_info": {
   "codemirror_mode": {
    "name": "ipython",
    "version": 3
   },
   "file_extension": ".py",
   "mimetype": "text/x-python",
   "name": "python",
   "nbconvert_exporter": "python",
   "pygments_lexer": "ipython3",
   "version": "3.10.2"
  },
  "orig_nbformat": 4
 },
 "nbformat": 4,
 "nbformat_minor": 2
}
