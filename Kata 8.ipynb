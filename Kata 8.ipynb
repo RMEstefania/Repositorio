{
 "cells": [
  {
   "cell_type": "code",
   "execution_count": 2,
   "metadata": {},
   "outputs": [
    {
     "name": "stdout",
     "output_type": "stream",
     "text": [
      "Earth\n",
      "Earth polar diameter: 133709\n"
     ]
    }
   ],
   "source": [
    "planet = {\n",
    "    'name': 'Earth',\n",
    "    'moons': 1\n",
    "}\n",
    "print(planet.get('name'))\n",
    "# Muestra Earth\n",
    "planet['diameter (km)'] = {\n",
    "    'polar': 133709,\n",
    "    'equatorial': 142984\n",
    "}\n",
    "print(f\"{planet['name']} polar diameter: {planet['diameter (km)']['polar']}\")\n",
    "\n",
    "# el diccionario planet ahora contiene: {\n",
    "#   name: 'Earth'\n",
    "#   moons: 1\n",
    "#   diameter (km): {\n",
    "#      polar: 133709\n",
    "#      equatorial: 142984\n",
    "#   }\n",
    "# }"
   ]
  },
  {
   "cell_type": "code",
   "execution_count": 19,
   "metadata": {},
   "outputs": [
    {
     "name": "stdout",
     "output_type": "stream",
     "text": [
      "october: 3.5cm\n",
      "november: 4.2cm\n",
      "december: 2.1cm\n",
      "There was 10.8cm in the last quarter\n"
     ]
    }
   ],
   "source": [
    "rainfall = {\n",
    "    'october': 3.5,\n",
    "    'november': 4.2,\n",
    "    'december': 2.1\n",
    "}\n",
    "for key in rainfall.keys():\n",
    "    print(f'{key}: {rainfall[key]}cm')\n",
    "\n",
    "# Salida:\n",
    "# october: 3.5cm\n",
    "# november: 4.2cm\n",
    "# december: 2.1cm\n",
    "# El valor de december: 2.1cm\n",
    "\n",
    "# Si, 'december' existe en rainfall\n",
    "if 'december' in rainfall:\n",
    "    # rainfall [en la posición december] es igual a\n",
    "    # rainfall [en la posición december] + 1 (2.1+1)\n",
    "    rainfall['december'] = rainfall['december'] + 1\n",
    "\n",
    "# Si no:\n",
    "else:\n",
    "\n",
    "    # rainfall [en la posición december] es igual a 1\n",
    "    rainfall['december'] = 1\n",
    "\n",
    "# Como december si existe, el valor será 3.1\n",
    "#Total de precipitaciones 0\n",
    "total_rainfall = 0\n",
    "\n",
    "# Para cada valor en los valores de rainfall\n",
    "for value in rainfall.values():\n",
    "    \n",
    "    # El total de las precipitaciones será igual a ese mismo + el valor que se está iterando\n",
    "\n",
    "    total_rainfall = total_rainfall + value\n",
    "\n",
    "# Muestra 'Hay un total de precipitaciones (el valor total) en centímetros en el último cuarto (haciendo referencia al cuarto del año)\n",
    "\n",
    "print(f'There was {total_rainfall}cm in the last quarter')\n",
    "\n",
    "# Salida:\n",
    "# There was 10.8cm in the last quarter"
   ]
  },
  {
   "cell_type": "code",
   "execution_count": 8,
   "metadata": {},
   "outputs": [
    {
     "name": "stdout",
     "output_type": "stream",
     "text": [
      "El nombre del planeta es: Marte\n",
      "El numero de lunas que tiene es: 2\n",
      "Marte tiene una circunferencia polar de: 6752\n"
     ]
    }
   ],
   "source": [
    "Planeta = {\n",
    "    'Nombre': 'Marte',\n",
    "    'Lunas' : 2\n",
    "}\n",
    "print(\"El nombre del planeta es:\", Planeta.get('Nombre'))\n",
    "print(\"El numero de lunas que tiene es:\", Planeta['Lunas'])\n",
    "Planeta ['Circunferencia(Km)'] = {\n",
    "    'Polar' : 6752,\n",
    "    'Ecuatorial' : 6792\n",
    "}\n",
    "print(f\"{Planeta['Nombre']} tiene una circunferencia polar de: {Planeta['Circunferencia(Km)']['Polar']}\")"
   ]
  },
  {
   "cell_type": "code",
   "execution_count": 7,
   "metadata": {},
   "outputs": [
    {
     "name": "stdout",
     "output_type": "stream",
     "text": [
      "Mercurio tiene 0 luna(s)\n",
      "Venus tiene 0 luna(s)\n",
      "Tierra tiene 1 luna(s)\n",
      "Marte tiene 2 luna(s)\n",
      "Júpiter tiene 79 luna(s)\n",
      "Saturno tiene 82 luna(s)\n",
      "Urano tiene 27 luna(s)\n",
      "Neptuno tiene 14 luna(s)\n",
      "Pluton tiene 5 luna(s)\n",
      "Haumea tiene 2 luna(s)\n",
      "Makemake tiene 1 luna(s)\n",
      "Eris tiene 1 luna(s)\n"
     ]
    }
   ],
   "source": [
    "P_Lunas = {\n",
    "    'Mercurio' : 0,\n",
    "    'Venus' : 0,\n",
    "    'Tierra' : 1,\n",
    "    'Marte' : 2,\n",
    "    'Júpiter' : 79,\n",
    "    'Saturno' : 82,\n",
    "    'Urano' : 27,\n",
    "    'Neptuno' : 14,\n",
    "    'Pluton' : 5,\n",
    "    'Haumea' : 2,\n",
    "    'Makemake' : 1,\n",
    "    'Eris' : 1\n",
    "}\n",
    "for Total_Lunas in P_Lunas.keys():\n",
    "    print(f\"{Total_Lunas} tiene {P_Lunas[Total_Lunas]} luna(s)\")"
   ]
  },
  {
   "cell_type": "code",
   "execution_count": 15,
   "metadata": {},
   "outputs": [
    {
     "name": "stdout",
     "output_type": "stream",
     "text": [
      "En promedio, cada planeta tiene 17.833333333333332 Lunas en el Sistema Solar\n"
     ]
    }
   ],
   "source": [
    "Lunas = P_Lunas.values()\n",
    "Planetas = len(P_Lunas.keys())\n",
    "T_Lunas = 0\n",
    "for Luna in Lunas:\n",
    "    T_Lunas = T_Lunas + Luna\n",
    "Promedio = T_Lunas / Planetas\n",
    "print(\"En promedio, cada planeta tiene\", Promedio, \"Lunas en el Sistema Solar\")"
   ]
  }
 ],
 "metadata": {
  "interpreter": {
   "hash": "b10eb31e875a00c0cd99b310e69dd6511fc5ed5a75e45cd6560e46314b44a63b"
  },
  "kernelspec": {
   "display_name": "Python 3.10.2 64-bit",
   "language": "python",
   "name": "python3"
  },
  "language_info": {
   "codemirror_mode": {
    "name": "ipython",
    "version": 3
   },
   "file_extension": ".py",
   "mimetype": "text/x-python",
   "name": "python",
   "nbconvert_exporter": "python",
   "pygments_lexer": "ipython3",
   "version": "3.10.2"
  },
  "orig_nbformat": 4
 },
 "nbformat": 4,
 "nbformat_minor": 2
}
