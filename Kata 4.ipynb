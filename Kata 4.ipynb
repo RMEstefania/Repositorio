{
 "cells": [
  {
   "cell_type": "code",
   "execution_count": 9,
   "metadata": {},
   "outputs": [
    {
     "data": {
      "text/plain": [
       "['Datos interesantes sobre la Luna',\n",
       " 'La Luna es el único satélite de la Tierra',\n",
       " 'Hay varios datos interesantes sobre la Luna y cómo afecta la vida aquí en la Tierra',\n",
       " 'En promedio, la Luna se aleja 4 cm de la Tierra cada año',\n",
       " 'Esta deriva anual no es lo suficientemente significativa como para causar efectos inmediatos en la Tierra',\n",
       " 'La temperatura diurna más alta de la Luna es de 127 C.']"
      ]
     },
     "execution_count": 9,
     "metadata": {},
     "output_type": "execute_result"
    }
   ],
   "source": [
    "Texto = \"Datos interesantes sobre la Luna. La Luna es el único satélite de la Tierra. Hay varios datos interesantes sobre la Luna y cómo afecta la vida aquí en la Tierra. En promedio, la Luna se aleja 4 cm de la Tierra cada año. Esta deriva anual no es lo suficientemente significativa como para causar efectos inmediatos en la Tierra. La temperatura diurna más alta de la Luna es de 127 C.\"\n",
    "T_Dividido = Texto.split(\". \")\n",
    "T_Dividido"
   ]
  },
  {
   "cell_type": "code",
   "execution_count": 12,
   "metadata": {},
   "outputs": [],
   "source": [
    "P_Clave = [\"Promedio\", \"Temperatura\", \"Distancia\"]"
   ]
  },
  {
   "cell_type": "code",
   "execution_count": 11,
   "metadata": {},
   "outputs": [
    {
     "name": "stdout",
     "output_type": "stream",
     "text": [
      "Datos interesantes sobre la Luna\n",
      "La Luna es el único satélite de la Tierra\n",
      "Hay varios datos interesantes sobre la Luna y cómo afecta la vida aquí en la Tierra\n",
      "En promedio, la Luna se aleja 4 cm de la Tierra cada año\n",
      "Esta deriva anual no es lo suficientemente significativa como para causar efectos inmediatos en la Tierra\n",
      "La temperatura diurna más alta de la Luna es de 127 C.\n"
     ]
    }
   ],
   "source": [
    "for sentence in T_Dividido:\n",
    "    for P_Clave in P_Clave:\n",
    "        if P_Clave in sentence:\n",
    "            print(sentence)\n",
    "            break"
   ]
  },
  {
   "cell_type": "code",
   "execution_count": 13,
   "metadata": {},
   "outputs": [
    {
     "name": "stdout",
     "output_type": "stream",
     "text": [
      "La Luna es el único satélite de la Tierra\n",
      "Hay varios datos interesantes sobre la Luna y cómo afecta la vida aquí en la Tierra\n",
      "En promedio, la Luna se aleja 4 cm de la Tierra cada año\n",
      "Esta deriva anual no es lo suficientemente significativa como para causar efectos inmediatos en la Tierra\n",
      "La temperatura diurna más alta de la Luna es de 127 Celsius.\n"
     ]
    }
   ],
   "source": [
    "for sentence in T_Dividido:\n",
    "    for P_Clave in P_Clave:\n",
    "        if P_Clave in sentence:\n",
    "            print(sentence.replace(' C', ' Celsius'))\n",
    "            break"
   ]
  },
  {
   "cell_type": "code",
   "execution_count": 1,
   "metadata": {},
   "outputs": [],
   "source": [
    "Planeta = 'Marte '\n",
    "Gravedad  = 0.00143\n",
    "Nombre = 'Ganímedes'"
   ]
  },
  {
   "cell_type": "code",
   "execution_count": 3,
   "metadata": {},
   "outputs": [],
   "source": [
    "Título = f'datos de la gravedad sobre {Nombre}'"
   ]
  },
  {
   "cell_type": "code",
   "execution_count": 5,
   "metadata": {},
   "outputs": [],
   "source": [
    "Hechos = f\"\"\"{'-'*80} \n",
    "Nombre del planeta: {Planeta} \n",
    "Gravedad en {Nombre}: {Gravedad * 1000} m/s2 \n",
    "\"\"\""
   ]
  },
  {
   "cell_type": "code",
   "execution_count": 6,
   "metadata": {},
   "outputs": [
    {
     "name": "stdout",
     "output_type": "stream",
     "text": [
      "-------------------------------------------------------------------------------- \n",
      "Nombre del planeta: Marte  \n",
      "Gravedad en Ganímedes: 1.4300000000000002 m/s2 \n",
      "\n"
     ]
    }
   ],
   "source": [
    "Template = f\"\"\"{Título.title()} \n",
    "{Hechos} \n",
    "\"\"\" \n",
    "print(Hechos)"
   ]
  },
  {
   "cell_type": "code",
   "execution_count": 8,
   "metadata": {},
   "outputs": [],
   "source": [
    "Planeta = 'Marte '\n",
    "Gravedad  = 0.00143\n",
    "Nombre = 'Ganímedes'"
   ]
  },
  {
   "cell_type": "code",
   "execution_count": 10,
   "metadata": {},
   "outputs": [
    {
     "name": "stdout",
     "output_type": "stream",
     "text": [
      "-------------------------------------------------------------------------------- \n",
      "Nombre del planeta: Marte  \n",
      "Gravedad en Ganímedes: 1.4300000000000002 m/s2 \n",
      "\n"
     ]
    }
   ],
   "source": [
    "print(Hechos)"
   ]
  },
  {
   "cell_type": "code",
   "execution_count": 12,
   "metadata": {},
   "outputs": [
    {
     "name": "stdout",
     "output_type": "stream",
     "text": [
      "\n",
      "Datos de Gravedad sobre: Ganímedes\n",
      "-------------------------------------------------------------------------------\n",
      "Nombre del planeta: Marte \n",
      "Gravedad en Ganímedes: 0.00143 m/s2\n",
      "\n"
     ]
    }
   ],
   "source": [
    "N_Plantilla = \"\"\"\n",
    "Datos de Gravedad sobre: {Nombre}\n",
    "-------------------------------------------------------------------------------\n",
    "Nombre del planeta: {Planeta}\n",
    "Gravedad en {Nombre}: {Gravedad} m/s2\n",
    "\"\"\"\n",
    "print(N_Plantilla.format(Nombre=Nombre, Planeta=Planeta, Gravedad=Gravedad))"
   ]
  },
  {
   "cell_type": "code",
   "execution_count": 13,
   "metadata": {},
   "outputs": [
    {
     "name": "stdout",
     "output_type": "stream",
     "text": [
      "\n",
      "Datos de Gravedad sobre: Ganímedes\n",
      "-------------------------------------------------------------------------------\n",
      "Nombre del planeta: Marte \n",
      "Gravedad en Ganímedes: 1.4300000000000002 m/s2\n",
      "\n"
     ]
    }
   ],
   "source": [
    "print(N_Plantilla.format(Nombre=Nombre, Planeta=Planeta, Gravedad=Gravedad*1000))"
   ]
  }
 ],
 "metadata": {
  "interpreter": {
   "hash": "b10eb31e875a00c0cd99b310e69dd6511fc5ed5a75e45cd6560e46314b44a63b"
  },
  "kernelspec": {
   "display_name": "Python 3.10.2 64-bit",
   "language": "python",
   "name": "python3"
  },
  "language_info": {
   "codemirror_mode": {
    "name": "ipython",
    "version": 3
   },
   "file_extension": ".py",
   "mimetype": "text/x-python",
   "name": "python",
   "nbconvert_exporter": "python",
   "pygments_lexer": "ipython3",
   "version": "3.10.2"
  },
  "orig_nbformat": 4
 },
 "nbformat": 4,
 "nbformat_minor": 2
}
